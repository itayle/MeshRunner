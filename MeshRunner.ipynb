{
  "cells": [
    {
      "cell_type": "markdown",
      "metadata": {
        "id": "view-in-github",
        "colab_type": "text"
      },
      "source": [
        "<a href=\"https://colab.research.google.com/github/itayle/MeshRunner/blob/main/MeshRunner.ipynb\" target=\"_parent\"><img src=\"https://colab.research.google.com/assets/colab-badge.svg\" alt=\"Open In Colab\"/></a>"
      ]
    },
    {
      "cell_type": "code",
      "execution_count": null,
      "metadata": {
        "id": "ZgmYOG70b5AY"
      },
      "outputs": [],
      "source": [
        "## Download Shrec\n",
        "import os\n",
        "os.chdir(\"/content\")\n",
        "!rm -r MeshRunner\n",
        "!git clone https://github.com/itayle/MeshRunner\n",
        "!wget https://cgm.technion.ac.il/Computer-Graphics-Multimedia/Software/MeshWalker/mesh_walker_data/datasets_processed/shrec11.tar.gz -P MeshRunner/datasets_processed\n",
        "!tar -xzvf MeshRunner/datasets_processed/shrec11.tar.gz --directory MeshRunner/datasets_processed\n"
      ]
    },
    {
      "cell_type": "markdown",
      "source": [
        "# install libraries\n",
        "Need to restart notebook after numpy installation"
      ],
      "metadata": {
        "id": "bnAcbG-QHgUG"
      }
    },
    {
      "cell_type": "code",
      "execution_count": null,
      "metadata": {
        "id": "oTHz3uzFoL7R"
      },
      "outputs": [],
      "source": [
        "!pip install numpy==1.19.5\n",
        "!pip install tensorflow==2.2.0\n",
        "!pip install tensorflow-addons==0.8.3\n",
        "!pip install open3d==0.8.0.0\n",
        "!pip install easydict\n",
        "!pip install h5py\n",
        "!pip install ipython\n",
        "!pip install matplotlib==3.*\n",
        "!pip install networkx==2.*\n",
        "!pip install psutil\n",
        "!pip install scikit-learn==0.22.*\n",
        "!pip install scipy==1.*\n",
        "!pip install tqdm\n",
        "!pip install trimesh==3.*\n",
        "#!pip install pyvista==0.24.*\n",
        "!pip install pydot\n",
        "!pip install graphviz\n",
        "!pip install opencv-python==4.*\n",
        "\n",
        "!pip install pyvista ipyvtklink trimesh\n",
        "!pip install rtree\n",
        "# To avoid \"ModuleNotFoundError: No module named 'vtkOpenGLKitPython' \" when importing vtk\n",
        "# https://stackoverflow.com/q/32389599\n",
        "# https://askubuntu.com/q/629692\n",
        "!sudo apt-get update\n",
        "!sudo apt install python-qt4 libgl1-mesa-glx\n",
        "!sudo apt-get install xvfb\n",
        "!export DISPLAY=:99.0\n",
        "!export PYVISTA_OFF_SCREEN=true\n",
        "!export PYVISTA_USE_IPYVTK=true"
      ]
    },
    {
      "cell_type": "markdown",
      "source": [
        "# Training script\n",
        "Please choose training args (attention, type of walk , ..)"
      ],
      "metadata": {
        "id": "T_3CJJHREIao"
      }
    },
    {
      "cell_type": "code",
      "source": [
        "attention=True\n",
        "encodeJumps = True\n",
        "saliency=False\n",
        "walk_name = \"regular\" # Options: [\"regular\", \"skip\", \"walk_with_jumps\",\"order\"]"
      ],
      "metadata": {
        "id": "m70JiSvwt-fq"
      },
      "execution_count": null,
      "outputs": []
    },
    {
      "cell_type": "code",
      "execution_count": null,
      "metadata": {
        "id": "aVq1qepofeB6"
      },
      "outputs": [],
      "source": [
        "import os\n",
        "print(os.getcwd())\n",
        "os.chdir(\"/content/MeshRunner/\")\n",
        "print(os.getcwd())\n",
        "\n",
        "import numpy as np\n",
        "import utils\n",
        "import importlib\n",
        "import tensorflow as tf\n",
        "import train_val\n",
        "# importlib.reload(dataset)\n",
        "# importlib.reload(train_val)\n",
        "seed = 0\n",
        "np.random.seed(seed)\n",
        "tf.random.set_seed(seed)\n",
        "\n",
        "utils.config_gpu()\n",
        "job = \"shrec11\"\n",
        "job_part = \"10-10_A\"\n",
        "\n",
        "run_name = \"seed_\" + str(seed)\n",
        "run_name += \"att_\" + str(attention)\n",
        "\n",
        "train_val.run_one_job(job=job,\n",
        "                        job_part=job_part,\n",
        "                        optim=\"adam\",\n",
        "                        lr=1e-4,\n",
        "                        num_of_epochs_for_validtion=200,\n",
        "                        attention=attention,\n",
        "                        saliency=saliency,\n",
        "                        encodeJumps=encodeJumps,\n",
        "                        walk_name = walk_name,\n",
        "                        custom_name=run_name)"
      ]
    },
    {
      "cell_type": "markdown",
      "source": [
        "# Evaluation script\n",
        "please choose your run directory (in /content/MeshRunner/runs/) and evaluate your model after training for at least 1115 epochs (in order for a .keras file to be created)"
      ],
      "metadata": {
        "id": "a2as9S9bD4KU"
      }
    },
    {
      "cell_type": "code",
      "source": [
        "dir = \"/runs/0001-19.02.2022..18.28__shrec11_10-10_A_seed_0att_False\"\n"
      ],
      "metadata": {
        "id": "feN3Q2u0vCSS"
      },
      "execution_count": null,
      "outputs": []
    },
    {
      "cell_type": "code",
      "execution_count": null,
      "metadata": {
        "id": "jaKkUxhSvv1P"
      },
      "outputs": [],
      "source": [
        "importlib.reload(train_val)\n",
        "np.random.seed(0)\n",
        "tf.random.set_seed(0)\n",
        "params = train_val.get_params(job, job_part)\n",
        "seq_len_list = [25, 50, 100]\n",
        "n_walks_list = [1, 4, 16, 32]\n",
        "for seq_len in seq_len_list:\n",
        "    print(\"---------seq_len:\", seq_len, \"---------\")\n",
        "    for n_walks in n_walks_list:\n",
        "        acc, _ = train_val.calc_accuracy_test(logdir=dir, **params.full_accuracy_test, n_walks_per_model=n_walks,\n",
        "                                            iter2use='00010008.keras',seq_len=seq_len)\n",
        "        print(\"n_walks:\", n_walks, \"acc\", acc[0])"
      ]
    }
  ],
  "metadata": {
    "colab": {
      "provenance": [],
      "include_colab_link": true
    },
    "kernelspec": {
      "display_name": "Python 3",
      "name": "python3"
    },
    "language_info": {
      "name": "python"
    },
    "accelerator": "GPU"
  },
  "nbformat": 4,
  "nbformat_minor": 0
}